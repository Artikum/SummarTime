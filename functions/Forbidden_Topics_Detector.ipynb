{
 "cells": [
  {
   "cell_type": "code",
   "execution_count": 17,
   "id": "ba39a2ee",
   "metadata": {},
   "outputs": [
    {
     "name": "stdout",
     "output_type": "stream",
     "text": [
      "Текст содержит запрещенные слова!\n"
     ]
    }
   ],
   "source": [
    "def check_forbidden_words(text, forbidden_words):\n",
    "    # Приводим текст к нижнему регистру для удобства сравнения\n",
    "    text_lower = text.lower()\n",
    "    \n",
    "    # Проверяем наличие каждого запрещенного слова в тексте\n",
    "    for word in forbidden_words:\n",
    "        if word.lower() in text_lower:\n",
    "            return True  # Если хотя бы одно запрещенное слово обнаружено, возвращаем True\n",
    "    \n",
    "    return False  # Если запрещенных слов не обнаружено, возвращаем False\n",
    "\n",
    "# Пример текста и списка запрещенных слов\n",
    "input_text = \"тут окровавленное тело\"\n",
    "forbidden_words = [\"страх\",\"с4\",\"страш\",\"умир\",\"ранен\",\"рани\",\"крик\",\"ужас\",\"боль\",\"огон\",\"оружие\",\"кров\",\n",
    "                   \"атак\",\"нож\",\"лезвие\",\"пистолет\",\"винтовк\",\"стрел\",\"пушк\",\"пожар\",\"огонь\",\"горит\",\n",
    "                   \"взрыв\",\"убий\", \"убит\",\"терор\",\"теракт\",\"бомб\",\"калаш\",\"глок\",\"юсп\",\"каннибал\",\n",
    "                   \"человечин\",\"кишки\",\"труп\",\"дроп\",\"кардинг\",\"стиллер\",\"логер\",\"логгер\",\"кредитк\",\n",
    "                   \"скам\",\"мошеннечиство\",\"мошеннич\",\"нарко\",\"fear\",\"die\",\"wound\",\"injur\",\n",
    "                   \"scream\",\"knife\",\"blade\",\"horror\",\"pain\",\"fire\",\"weapon\", \"pistol\",\"rifle\",\"shoot\",\"gun\",\n",
    "                   \"fire\",\"burn\",\"explos\",\"c4\",\"kill\",\"terror\",\"blood\",\"attack\",\"bomb\",\"ak\",\"glock\",\"usp\",\n",
    "                   \"cannibal\",\"guts\",\"corpse\",\"dead\",\"drop\",\"carding\",\"stiller\",\"logger\",\"card\",\n",
    "                   \"credit\",\"scam\",\"fraud\",\"drug\",\"narc\"]\n",
    "\n",
    "# Проверка наличия запрещенных слов в тексте\n",
    "flag = check_forbidden_words(input_text, forbidden_words)\n",
    "\n",
    "# Печать результата\n",
    "if flag:\n",
    "    print(\"Текст содержит запрещенные слова!\")\n",
    "else:\n",
    "    print(\"Текст не содержит запрещенных слов.\")"
   ]
  },
  {
   "cell_type": "code",
   "execution_count": null,
   "id": "826da5f0",
   "metadata": {},
   "outputs": [],
   "source": []
  },
  {
   "cell_type": "code",
   "execution_count": null,
   "id": "a43efd4e",
   "metadata": {},
   "outputs": [],
   "source": []
  }
 ],
 "metadata": {
  "kernelspec": {
   "display_name": "Python 3 (ipykernel)",
   "language": "python",
   "name": "python3"
  },
  "language_info": {
   "codemirror_mode": {
    "name": "ipython",
    "version": 3
   },
   "file_extension": ".py",
   "mimetype": "text/x-python",
   "name": "python",
   "nbconvert_exporter": "python",
   "pygments_lexer": "ipython3",
   "version": "3.9.12"
  }
 },
 "nbformat": 4,
 "nbformat_minor": 5
}
