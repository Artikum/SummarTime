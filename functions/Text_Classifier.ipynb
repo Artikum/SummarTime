{
 "cells": [
  {
   "cell_type": "code",
   "execution_count": 2,
   "id": "85d5d3a2",
   "metadata": {},
   "outputs": [
    {
     "name": "stdout",
     "output_type": "stream",
     "text": [
      "Созданный заголовок для текста на русском языке: концертный зал холл теракт сити крокус\n",
      "Созданный заголовок для текста на английском языке: states united massacre commonly school\n"
     ]
    }
   ],
   "source": [
    "#вероятно стоит прикрутить сюда предобработку текстов\n",
    "from rutermextract import TermExtractor\n",
    "import pymorphy2\n",
    "from summa import keywords\n",
    "from langdetect import detect\n",
    "\n",
    "def generate_title(text):\n",
    "    # Определяем язык текста\n",
    "    language = detect(text)\n",
    "\n",
    "    if language == 'ru':\n",
    "        # Извлечение ключевых слов из текста на русском языке\n",
    "        term_extractor = TermExtractor()\n",
    "        terms = term_extractor(text)\n",
    "        extracted_keywords = [term.normalized for term in terms][:5]  # Берем первые 5 ключевых слов\n",
    "    else:\n",
    "        # Извлечение ключевых слов из текста на английском языке\n",
    "        extracted_keywords = keywords.keywords(text, language='english', words=5).split('\\n')\n",
    "\n",
    "    # Создание заголовка на основе извлеченных ключевых слов\n",
    "    title = ' '.join(extracted_keywords)\n",
    "    return title\n",
    "\n",
    "# Пример текста на русском языке\n",
    "input_text_ru = \"\"\"\n",
    "Теракт в концертном зале «Крокус Сити Холл»\n",
    "Вечером 22 марта несколько человек с автоматами ворвались в концертный зал \n",
    "«Крокус Сити Холл» в подмосковном Красногорске и открыли стрельбу по посетителям, \n",
    "террористы также подожгли здание. СК сообщает о 137 погибших. По последним данным Минздрава, \n",
    "пострадали 180 человек. Утром 23 марта глава ФСБ Бортников сообщил Путину о задержании 11 человек \n",
    "в связи с терактом, четверо из них непосредственно участвовали в нападении.\n",
    "\"\"\"\n",
    "\n",
    "# Пример текста на английском языке\n",
    "input_text_en = \"\"\"\n",
    "The Columbine High School massacre, commonly referred to as Columbine, \n",
    "was a school shooting and attempted bombing that occurred on April 20, 1999,\n",
    "at Columbine High School in Columbine, Colorado, United States.[b] The perpetrators, \n",
    "twelfth-grade students Eric Harris and Dylan Klebold, murdered twelve students and one teacher.\n",
    "\"\"\"\n",
    "\n",
    "# Создание заголовков\n",
    "title_ru = generate_title(input_text_ru)\n",
    "title_en = generate_title(input_text_en)\n",
    "\n",
    "print(\"Созданный заголовок для текста на русском языке:\", title_ru)\n",
    "print(\"Созданный заголовок для текста на английском языке:\", title_en)"
   ]
  },
  {
   "cell_type": "code",
   "execution_count": null,
   "id": "b183b83e",
   "metadata": {},
   "outputs": [],
   "source": []
  },
  {
   "cell_type": "code",
   "execution_count": 33,
   "id": "dcc41f1e",
   "metadata": {},
   "outputs": [
    {
     "name": "stdout",
     "output_type": "stream",
     "text": [
      "Accuracy: 0.0\n",
      "Predicted category for new text: sports\n"
     ]
    }
   ],
   "source": [
    "#классификатор, требуется много учить, вопрос нужен ли он вообще, но для диплома полезно\n",
    "from sklearn.feature_extraction.text import TfidfVectorizer\n",
    "from sklearn.model_selection import train_test_split\n",
    "from sklearn.svm import LinearSVC\n",
    "from sklearn.metrics import accuracy_score\n",
    "import numpy as np\n",
    "\n",
    "# Примеры текстов для обучения\n",
    "texts = [\n",
    "    (\"This is an English text about technology\", \"technology\"),\n",
    "    (\"Это русский текст о природе\", \"nature\"),\n",
    "    (\"sport, football, box\", \"sports\"),\n",
    "    (\"Русский текст о политике\", \"politics\"),\n",
    "    (\"An English text discussing economy\", \"economy\"),\n",
    "    (\"Еще один русский текст о культуре\", \"culture\")\n",
    "]\n",
    "\n",
    "# Разделение на данные для обучения и тестирования\n",
    "X, y = zip(*texts)\n",
    "X_train, X_test, y_train, y_test = train_test_split(X, y, test_size=0.2, random_state=42)\n",
    "\n",
    "# Преобразование текстов в числовые признаки\n",
    "vectorizer = TfidfVectorizer()\n",
    "X_train_vec = vectorizer.fit_transform(X_train)\n",
    "X_test_vec = vectorizer.transform(X_test)\n",
    "\n",
    "# Обучение модели\n",
    "classifier = LinearSVC()\n",
    "classifier.fit(X_train_vec, y_train)\n",
    "\n",
    "# Предсказание на тестовых данных\n",
    "y_pred = classifier.predict(X_test_vec)\n",
    "\n",
    "# Оценка точности модели\n",
    "accuracy = accuracy_score(y_test, y_pred)\n",
    "print(\"Accuracy:\", accuracy)\n",
    "\n",
    "# Пример предсказания для нового текста\n",
    "new_text = \"This is a text about football\"\n",
    "new_text_vec = vectorizer.transform([new_text])\n",
    "predicted_category = classifier.predict(new_text_vec)\n",
    "print(\"Predicted category for new text:\", predicted_category[0])"
   ]
  },
  {
   "cell_type": "code",
   "execution_count": null,
   "id": "049d230d",
   "metadata": {},
   "outputs": [],
   "source": []
  },
  {
   "cell_type": "code",
   "execution_count": null,
   "id": "0f8be7f8",
   "metadata": {},
   "outputs": [],
   "source": []
  },
  {
   "cell_type": "code",
   "execution_count": null,
   "id": "ff6797a4",
   "metadata": {},
   "outputs": [],
   "source": []
  },
  {
   "cell_type": "code",
   "execution_count": 35,
   "id": "11002f57",
   "metadata": {},
   "outputs": [
    {
     "ename": "NameError",
     "evalue": "name 'фывфыфа' is not defined",
     "output_type": "error",
     "traceback": [
      "\u001b[1;31m---------------------------------------------------------------------------\u001b[0m",
      "\u001b[1;31mNameError\u001b[0m                                 Traceback (most recent call last)",
      "Input \u001b[1;32mIn [35]\u001b[0m, in \u001b[0;36m<cell line: 1>\u001b[1;34m()\u001b[0m\n\u001b[1;32m----> 1\u001b[0m \u001b[43mфывфыфа\u001b[49m\n",
      "\u001b[1;31mNameError\u001b[0m: name 'фывфыфа' is not defined"
     ]
    }
   ],
   "source": [
    "фывфыфа"
   ]
  },
  {
   "cell_type": "code",
   "execution_count": null,
   "id": "e222c4c8",
   "metadata": {},
   "outputs": [],
   "source": []
  },
  {
   "cell_type": "code",
   "execution_count": null,
   "id": "03196ace",
   "metadata": {},
   "outputs": [],
   "source": []
  },
  {
   "cell_type": "code",
   "execution_count": null,
   "id": "6cb8a507",
   "metadata": {},
   "outputs": [],
   "source": []
  },
  {
   "cell_type": "code",
   "execution_count": null,
   "id": "a42ad81c",
   "metadata": {},
   "outputs": [],
   "source": []
  },
  {
   "cell_type": "code",
   "execution_count": 34,
   "id": "b8c97768",
   "metadata": {},
   "outputs": [
    {
     "name": "stdout",
     "output_type": "stream",
     "text": [
      "Available Themes: \n",
      "   chesterish\n",
      "   grade3\n",
      "   gruvboxd\n",
      "   gruvboxl\n",
      "   monokai\n",
      "   oceans16\n",
      "   onedork\n",
      "   solarizedd\n",
      "   solarizedl\n"
     ]
    }
   ],
   "source": [
    "!jt -l"
   ]
  },
  {
   "cell_type": "code",
   "execution_count": null,
   "id": "22e09b5b",
   "metadata": {},
   "outputs": [],
   "source": []
  }
 ],
 "metadata": {
  "kernelspec": {
   "display_name": "Python 3 (ipykernel)",
   "language": "python",
   "name": "python3"
  },
  "language_info": {
   "codemirror_mode": {
    "name": "ipython",
    "version": 3
   },
   "file_extension": ".py",
   "mimetype": "text/x-python",
   "name": "python",
   "nbconvert_exporter": "python",
   "pygments_lexer": "ipython3",
   "version": "3.9.12"
  }
 },
 "nbformat": 4,
 "nbformat_minor": 5
}
